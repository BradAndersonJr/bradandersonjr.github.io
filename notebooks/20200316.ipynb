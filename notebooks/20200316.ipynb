{
 "nbformat": 4,
 "nbformat_minor": 2,
 "metadata": {
  "language_info": {
   "name": "python",
   "codemirror_mode": {
    "name": "ipython",
    "version": 3
   }
  },
  "orig_nbformat": 2,
  "file_extension": ".py",
  "mimetype": "text/x-python",
  "name": "python",
  "npconvert_exporter": "python",
  "pygments_lexer": "ipython3",
  "version": 3
 },
 "cells": [
  {
   "cell_type": "markdown",
   "metadata": {},
   "source": [
    "<style>\n",
    "/* Style the body */\n",
    "body {\n",
    "  font-family: 'Arial';\n",
    "  margin: 0;\n",
    "}\n",
    "\n",
    "/* Header/Logo Title */\n",
    ".header {\n",
    "  padding: 40px;\n",
    "  text-align: center;\n",
    "  background: lightgray;\n",
    "  color: #646464;\n",
    "  font-size: 30px;\n",
    "}\n",
    "\n",
    "\n",
    "/* Page Content */\n",
    ".content {padding:20px;}\n",
    "</style>\n",
    "</head>\n",
    "<body>\n",
    "<div class=\"header\">\n",
    "  <h1>Day 1</h1>\n",
    "  <p>16 March 2020, Monday</p>\n",
    "</div>\n",
    "\n",
    "</body>"
   ]
  },
  {
   "cell_type": "markdown",
   "metadata": {},
   "source": [
    "This is my first jupyter notebook using VS Code!\n",
    "I really don't know what I'm doing, but here we go!"
   ]
  },
  {
   "cell_type": "markdown",
   "metadata": {},
   "source": [
    "For this first project, I want to make a converter that converts someone's age into months using their birthdate.\n",
    "From there I'd like to make the program use user input.\n",
    "After that I'd like to try and make it a web-based app that can be used online."
   ]
  },
  {
   "cell_type": "markdown",
   "metadata": {},
   "source": [
    "My initial searches on Google have lead me to the datetime module.\n",
    "https://docs.python.org/3/library/datetime.html#module-datetime\n",
    "\n",
    "Hopefully I'll be able to find enough information here to get started."
   ]
  },
  {
   "cell_type": "code",
   "execution_count": null,
   "metadata": {},
   "outputs": [],
   "source": [
    "import datetime"
   ]
  },
  {
   "cell_type": "markdown",
   "metadata": {},
   "source": [
    "So I don't actually know the proper definiton of a python module.  \n",
    "\n",
    "After searching for it, from the offical python documentation I found: </b><i>A module is a file containing Python definitions and statements.</i></b> https://docs.python.org/3/tutorial/modules.html"
   ]
  }
 ]
}