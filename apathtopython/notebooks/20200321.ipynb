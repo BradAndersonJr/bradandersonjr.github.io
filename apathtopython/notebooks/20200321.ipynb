{
  "nbformat": 4,
  "nbformat_minor": 0,
  "metadata": {
    "colab": {
      "name": "20200321.ipynb",
      "provenance": [],
      "toc_visible": true
    },
    "kernelspec": {
      "name": "python3",
      "display_name": "Python 3"
    }
  },
  "cells": [
    {
      "cell_type": "markdown",
      "metadata": {
        "id": "f5SeNF7Po_QF",
        "colab_type": "text"
      },
      "source": [
        "#Day One\n",
        "\n",
        "####Sat, Mar 21, 2020\n",
        "\n",
        "---"
      ]
    },
    {
      "cell_type": "markdown",
      "metadata": {
        "id": "Z80wGafFpGU4",
        "colab_type": "text"
      },
      "source": [
        "Greetings and welcome to my first 'official' A Path to Python notebook! "
      ]
    },
    {
      "cell_type": "markdown",
      "metadata": {
        "id": "7CJ9NZSzpUl6",
        "colab_type": "text"
      },
      "source": [
        "<div class=\"alert alert-success\" role=\"alert\">\n",
        "  <h4 class=\"alert-heading\">Well done!</h4>\n",
        "  <p>Aww yeah, you successfully read this important alert message. This example text is going to run a bit longer so that you can see how spacing within an alert works with this kind of content.</p>\n",
        "  <hr>\n",
        "  <p class=\"mb-0\">Whenever you need to, be sure to use margin utilities to keep things nice and tidy.</p>\n",
        "</div>"
      ]
    }
  ]
}