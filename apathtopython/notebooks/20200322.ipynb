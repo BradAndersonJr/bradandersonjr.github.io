{
  "nbformat": 4,
  "nbformat_minor": 0,
  "metadata": {
    "colab": {
      "name": "20200322.ipynb",
      "provenance": [],
      "collapsed_sections": []
    },
    "kernelspec": {
      "name": "python3",
      "display_name": "Python 3"
    }
  },
  "cells": [
    {
      "cell_type": "markdown",
      "metadata": {
        "id": "6hOWliun4brI",
        "colab_type": "text"
      },
      "source": [
        "<div class=\"header\">\n",
        "    <h1>Day One</h1>\n",
        "    <h5>Sun, Mar 22, 2020</h5>\n",
        "</div>\n",
        "<hr>"
      ]
    },
    {
      "cell_type": "markdown",
      "metadata": {
        "id": "HmRMnegT5KYS",
        "colab_type": "text"
      },
      "source": [
        "  <div class=\"alert alert-warning\" role=\"alert\">\n",
        "    <h4 class=\"alert-heading\">Today's Focus:</h4>\n",
        "    <p>Having recently discovered Google Colab as an alternative means to utlizing the power of Jupyter Notebooks, I am interested in seeing if I can easily automate downloading a .ipynb file and manipulate it via the Windows Command Line!</p>\n",
        "    <hr>\n",
        "    <p class=\"mb-0\">Here we go!!</p>\n",
        "  </div>"
      ]
    },
    {
      "cell_type": "markdown",
      "metadata": {
        "id": "fnZNaQXYGZYd",
        "colab_type": "text"
      },
      "source": [
        "#Contents"
      ]
    },
    {
      "cell_type": "markdown",
      "metadata": {
        "id": "uUDHPddD5CUH",
        "colab_type": "toc"
      },
      "source": [
        ">[It all has to start somewhere!!](#updateTitle=true&folderId=1GOXcuFHqIN1FyGa9dixRNpWm00PxW5DV&scrollTo=7FSUAHEb4xHG)\n",
        "\n",
        ">[Does this make extra changes?! WINKY FACE!!|](#updateTitle=true&folderId=1GOXcuFHqIN1FyGa9dixRNpWm00PxW5DV&scrollTo=Jxofe3L25GGT)\n",
        "\n"
      ]
    },
    {
      "cell_type": "markdown",
      "metadata": {
        "id": "7FSUAHEb4xHG",
        "colab_type": "text"
      },
      "source": [
        "## It all has to start somewhere!!"
      ]
    },
    {
      "cell_type": "code",
      "metadata": {
        "id": "UPz-PjGW4z0d",
        "colab_type": "code",
        "colab": {
          "base_uri": "https://localhost:8080/",
          "height": 34
        },
        "outputId": "f558f0a4-017f-44bb-9ec7-f62a9f62994b"
      },
      "source": [
        "print(\"I agree with that statement above!\")"
      ],
      "execution_count": 1,
      "outputs": [
        {
          "output_type": "stream",
          "text": [
            "I agree with that statement above!\n"
          ],
          "name": "stdout"
        }
      ]
    },
    {
      "cell_type": "markdown",
      "metadata": {
        "id": "nhUOltMI4-x4",
        "colab_type": "text"
      },
      "source": [
        "Contrary to popular belief, Lorem Ipsum is not simply random text. It has roots in a piece of classical Latin literature from 45 BC, making it over 2000 years old. Richard McClintock, a Latin professor at Hampden-Sydney College in Virginia, looked up one of the more obscure Latin words, consectetur, from a Lorem Ipsum passage, and going through the cites of the word in classical literature, discovered the undoubtable source. Lorem Ipsum comes from sections 1.10.32 and 1.10.33 of \"de Finibus Bonorum et Malorum\" (The Extremes of Good and Evil) by Cicero, written in 45 BC. This book is a treatise on the theory of ethics, very popular during the Renaissance. The first line of Lorem Ipsum, \"Lorem ipsum dolor sit amet..\", comes from a line in section 1.10.32.\n",
        "\n",
        "The standard chunk of Lorem Ipsum used since the 1500s is reproduced below for those interested. Sections 1.10.32 and 1.10.33 from \"de Finibus Bonorum et Malorum\" by Cicero are also reproduced in their exact original form, accompanied by English versions from the 1914 translation by H. Rackham."
      ]
    },
    {
      "cell_type": "markdown",
      "metadata": {
        "id": "Jxofe3L25GGT",
        "colab_type": "text"
      },
      "source": [
        "## Here's some actual coooodage!!"
      ]
    },
    {
      "cell_type": "code",
      "metadata": {
        "id": "j9TlioNlGo38",
        "colab_type": "code",
        "colab": {}
      },
      "source": [
        "import datetime\n",
        "import pyperclip\n",
        "import time\n",
        "\n",
        "today = datetime.datetime.now()\n",
        "\n",
        "date1 = today.strftime(\"%a, %b %d, %Y\")\n",
        "pyperclip.copy(date1)\n",
        "print(date1)\n",
        "\n",
        "time.sleep(1)\n",
        "\n",
        "date2 = today.strftime(\"%Y%m%d\")\n",
        "pyperclip.copy(date2)\n",
        "print(date2)\n",
        "\n",
        "time.sleep(1)\n",
        "\n",
        "cmdLine = ('move ' + str(date2) + '.ipynb C:\\\\Users\\\\bradl\\OneDrive\\Documents\\GitHub\\\\bradandersonjr.github.io\\\\apathtopython\\\\notebooks & cd C:\\\\Users\\\\bradl\\OneDrive\\\\Documents\\\\GitHub\\\\bradandersonjr.github.io\\\\apathtopython\\\\notebooks & jupyter nbconvert --to html ' + str(date2) + '.ipynb')\n",
        "pyperclip.copy(cmdLine)\n",
        "print(cmdLine)\n",
        "\n",
        "###     C:\\Users\\bradl\\OneDrive\\Documents\\Scripts\\dateCopy.py"
      ],
      "execution_count": 0,
      "outputs": []
    },
    {
      "cell_type": "markdown",
      "metadata": {
        "id": "q6H5MqXqGrS6",
        "colab_type": "text"
      },
      "source": [
        "For some reason, yet to be figured out I can't properly run the pyperclip module in Google Colab... something with GUI support?"
      ]
    },
    {
      "cell_type": "code",
      "metadata": {
        "id": "wBDHOYLUG4n7",
        "colab_type": "code",
        "colab": {}
      },
      "source": [
        ""
      ],
      "execution_count": 0,
      "outputs": []
    }
  ]
}