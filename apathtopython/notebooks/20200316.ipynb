{
 "nbformat": 4,
 "nbformat_minor": 2,
 "metadata": {
  "language_info": {
   "name": "python",
   "codemirror_mode": {
    "name": "ipython",
    "version": 3
   },
   "version": "3.8.1-final"
  },
  "orig_nbformat": 2,
  "file_extension": ".py",
  "mimetype": "text/x-python",
  "name": "python",
  "npconvert_exporter": "python",
  "pygments_lexer": "ipython3",
  "version": 3,
  "kernelspec": {
   "name": "python38132bit87f6947f1c644bf5a39dd4ea14ecdf89",
   "display_name": "Python 3.8.1 32-bit"
  }
 },
 "cells": [
  {
   "cell_type": "markdown",
   "metadata": {},
   "source": [
    "# Day One\n",
    "\n",
    "### Things to try!\n",
    "\n",
    "- # 1\n",
    "- ## 2\n",
    "- ### 3\n",
    "\n",
    "---\n",
    "\n",
    "**test**\n",
    "*test*\n",
    "# ***test***\n",
    "\n",
    "```python\n",
    "a = 1\n",
    "b = 2\n",
    "\n",
    "print(a * b)\n",
    "```\n",
    "\n",
    "-[x] Write the press release\n",
    "-[ ] Update the website\n",
    "-[ ] Contact the media\n",
    "\n",
    "Here's a simple footnote,[^1] and here's a longer one.[^bignote]\n",
    "\n",
    "[^1]: This is the first footnote.\n",
    "\n",
    "[^bignote]: Here's one with multiple paragraphs and code.\n",
    "\n",
    "    Indent paragraphs to include them in the footnote.\n",
    "\n",
    "    `{ my code }`\n",
    "\n",
    "    Add as many paragraphs as you like."
   ]
  },
  {
   "cell_type": "markdown",
   "metadata": {},
   "source": [
    "This is my first jupyter notebook using VS Code!\n",
    "I really don't know what I'm doing, but here we go!"
   ]
  },
  {
   "cell_type": "markdown",
   "metadata": {},
   "source": [
    "For this first project, I want to make a converter that converts someone's age into months using their birthdate.\n",
    "From there I'd like to make the program use user input.\n",
    "After that I'd like to try and make it a web-based app that can be used online."
   ]
  },
  {
   "cell_type": "markdown",
   "metadata": {},
   "source": [
    "My initial searches on Google have lead me to the datetime module.\n",
    "https://docs.python.org/3/library/datetime.html#module-datetime\n",
    "\n",
    "Hopefully I'll be able to find enough information here to get started."
   ]
  },
  {
   "cell_type": "code",
   "execution_count": null,
   "metadata": {},
   "outputs": [],
   "source": [
    "import datetime"
   ]
  },
  {
   "cell_type": "markdown",
   "metadata": {},
   "source": [
    "So I don't actually know the proper definiton of a python module.  \n",
    "\n",
    "After searching for it, from the offical python documentation I found: </b><i>A module is a file containing Python definitions and statements.</i></b> https://docs.python.org/3/tutorial/modules.html"
   ]
  },
  {
   "cell_type": "code",
   "execution_count": 4,
   "metadata": {},
   "outputs": [
    {
     "name": "stdout",
     "output_type": "stream",
     "text": "19.125\n19.125\n19.123239389549042\n"
    }
   ],
   "source": [
    "import math\n",
    "\n",
    "s = 25.5\n",
    "f = 24\n",
    "bridge = 2.08\n",
    "nut = 1.388\n",
    "\n",
    "v = 1\n",
    "\n",
    "h = (s-(s/(2**(f/12))))\n",
    "\n",
    "a = math.asin(((bridge-nut)/2)/s)*(180/math.pi)\n",
    "\n",
    "b = ((s-(s/(2**(f/12))))*(math.cos(math.asin(((bridge-nut)/2)/s))))\n",
    "\n",
    "#print(b+(h-b)*v)\n",
    "\n",
    "print(((s-(s/(2**(f/12))))*(math.cos(math.asin(((bridge-nut)/2)/s))))+((s-(s/(2**(f/12))))\n",
    "     -((s-(s/(2**(f/12))))*(math.cos(math.asin(((bridge-nut)/2)/s)))))*v)\n",
    "\n",
    "print(h)\n",
    "print(b)"
   ]
  }
 ]
}
